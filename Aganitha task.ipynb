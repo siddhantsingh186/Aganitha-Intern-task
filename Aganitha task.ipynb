{
  "nbformat": 4,
  "nbformat_minor": 0,
  "metadata": {
    "kernelspec": {
      "display_name": "Python 3",
      "language": "python",
      "name": "python3"
    },
    "language_info": {
      "codemirror_mode": {
        "name": "ipython",
        "version": 3
      },
      "file_extension": ".py",
      "mimetype": "text/x-python",
      "name": "python",
      "nbconvert_exporter": "python",
      "pygments_lexer": "ipython3",
      "version": "3.8.8"
    },
    "colab": {
      "name": "Lab 5.ipynb",
      "provenance": [],
      "collapsed_sections": []
    }
  },
  "cells": [
    {
      "cell_type": "code",
      "metadata": {
        "id": "d4l_pzvWVVso"
      },
      "source": [
        "import numpy as np\n",
        "import pandas as pd\n",
        "import string\n",
        "import nltk\n",
        "import re\n",
        "from nltk.corpus import stopwords\n",
        "from sklearn.feature_extraction.text import TfidfVectorizer"
      ],
      "execution_count": 1,
      "outputs": []
    },
    {
      "cell_type": "code",
      "metadata": {
        "id": "KR45w3OBVVsr"
      },
      "source": [
        "from sklearn.datasets import fetch_20newsgroups"
      ],
      "execution_count": 2,
      "outputs": []
    },
    {
      "cell_type": "code",
      "metadata": {
        "colab": {
          "base_uri": "https://localhost:8080/"
        },
        "id": "5vKnmJvaWBX4",
        "outputId": "fd4341c7-7771-42eb-a032-75db08ded480"
      },
      "source": [
        "nltk.download('stopwords')"
      ],
      "execution_count": 3,
      "outputs": [
        {
          "output_type": "stream",
          "name": "stdout",
          "text": [
            "[nltk_data] Downloading package stopwords to /root/nltk_data...\n",
            "[nltk_data]   Package stopwords is already up-to-date!\n"
          ]
        },
        {
          "output_type": "execute_result",
          "data": {
            "text/plain": [
              "True"
            ]
          },
          "metadata": {},
          "execution_count": 3
        }
      ]
    },
    {
      "cell_type": "code",
      "metadata": {
        "id": "uhd6jcrPVVsr"
      },
      "source": [
        "categories = fetch_20newsgroups().target_names"
      ],
      "execution_count": 4,
      "outputs": []
    },
    {
      "cell_type": "code",
      "metadata": {
        "id": "oO3M-pGuVVsr"
      },
      "source": [
        "from sklearn.datasets import fetch_20newsgroups\n",
        "X_train, y_train = fetch_20newsgroups(subset='train', return_X_y=True)\n",
        "X_test, y_test = fetch_20newsgroups(subset='test', return_X_y=True)"
      ],
      "execution_count": 5,
      "outputs": []
    },
    {
      "cell_type": "code",
      "metadata": {
        "colab": {
          "base_uri": "https://localhost:8080/"
        },
        "id": "ukF2UCJwVVss",
        "outputId": "4fbcac33-f4b9-4fca-8580-60dfb622aca7"
      },
      "source": [
        "df = pd.DataFrame(X_train, columns=[\"text\"])\n",
        "df[\"target\"] = y_train\n",
        "print(df.head())\n",
        "\n",
        "df_test = pd.DataFrame(X_test, columns=[\"text\"])\n",
        "df_test[\"target\"] = y_test\n",
        "print(df_test.head())"
      ],
      "execution_count": 6,
      "outputs": [
        {
          "output_type": "stream",
          "name": "stdout",
          "text": [
            "                                                text  target\n",
            "0  From: lerxst@wam.umd.edu (where's my thing)\\nS...       7\n",
            "1  From: guykuo@carson.u.washington.edu (Guy Kuo)...       4\n",
            "2  From: twillis@ec.ecn.purdue.edu (Thomas E Will...       4\n",
            "3  From: jgreen@amber (Joe Green)\\nSubject: Re: W...       1\n",
            "4  From: jcm@head-cfa.harvard.edu (Jonathan McDow...      14\n",
            "                                                text  target\n",
            "0  From: v064mb9k@ubvmsd.cc.buffalo.edu (NEIL B. ...       7\n",
            "1  From: Rick Miller <rick@ee.uwm.edu>\\nSubject: ...       5\n",
            "2  From: mathew <mathew@mantis.co.uk>\\nSubject: R...       0\n",
            "3  From: bakken@cs.arizona.edu (Dave Bakken)\\nSub...      17\n",
            "4  From: livesey@solntze.wpd.sgi.com (Jon Livesey...      19\n"
          ]
        }
      ]
    },
    {
      "cell_type": "code",
      "metadata": {
        "id": "bMVwEA5jVVss"
      },
      "source": [
        "stop = stopwords.words('english')"
      ],
      "execution_count": 7,
      "outputs": []
    },
    {
      "cell_type": "code",
      "metadata": {
        "id": "NWuGrBGmVVst"
      },
      "source": [
        "stop_words = list(set(stopwords.words(\"english\")))"
      ],
      "execution_count": 8,
      "outputs": []
    },
    {
      "cell_type": "code",
      "metadata": {
        "id": "rudcohmUVVst"
      },
      "source": [
        "def preprocess(string):\n",
        "    processed_str = re.sub(r\"\\S+@\\S+\", '', string) #Remove Email\n",
        "    processed_str = re.sub(r\"\\S+.co\\S+\", '', processed_str) #Remove Website\n",
        "    processed_str = re.sub(r\"\\S+.ed\\S+\", '', processed_str) #Remove website\n",
        "    processed_str = re.sub(r\"\\S+.in\\S+\", '', processed_str) #Remove website\n",
        "    processed_str = re.sub(r\"\\S+.edu\\S+\", '', processed_str) #Remove website\n",
        "    processed_str = re.sub(r\"[0-9]+\", '', processed_str) #Remove numbers\n",
        "    return processed_str"
      ],
      "execution_count": 9,
      "outputs": []
    },
    {
      "cell_type": "code",
      "metadata": {
        "id": "jbDdmuJGVVsu"
      },
      "source": [
        "X_train = df[\"text\"].apply(preprocess)\n",
        "X_test  = df_test[\"text\"].apply(preprocess)"
      ],
      "execution_count": 10,
      "outputs": []
    },
    {
      "cell_type": "code",
      "metadata": {
        "id": "90wU-8LYVVsv"
      },
      "source": [
        "tfidf_vectorizer = TfidfVectorizer(lowercase=True, \n",
        "                        stop_words=stop_words, \n",
        "                       )\n",
        "\n",
        "X_train_tfidf = tfidf_vectorizer.fit_transform(X_train)\n",
        "X_test_tfidf = tfidf_vectorizer.transform(X_test)"
      ],
      "execution_count": 11,
      "outputs": []
    },
    {
      "cell_type": "code",
      "metadata": {
        "colab": {
          "base_uri": "https://localhost:8080/"
        },
        "id": "AamC78lVVVsw",
        "outputId": "7fdfc9df-180c-40fd-c732-538809d4bf50"
      },
      "source": [
        "X_train_tfidf.shape"
      ],
      "execution_count": 12,
      "outputs": [
        {
          "output_type": "execute_result",
          "data": {
            "text/plain": [
              "(11314, 73024)"
            ]
          },
          "metadata": {},
          "execution_count": 12
        }
      ]
    },
    {
      "cell_type": "code",
      "metadata": {
        "colab": {
          "base_uri": "https://localhost:8080/"
        },
        "id": "HiJmyGRSVVsw",
        "outputId": "820f6838-058e-4225-f64c-9bb425b814c8"
      },
      "source": [
        "X_test_tfidf.shape"
      ],
      "execution_count": 13,
      "outputs": [
        {
          "output_type": "execute_result",
          "data": {
            "text/plain": [
              "(7532, 73024)"
            ]
          },
          "metadata": {},
          "execution_count": 13
        }
      ]
    },
    {
      "cell_type": "code",
      "metadata": {
        "colab": {
          "base_uri": "https://localhost:8080/"
        },
        "id": "EIbVKckMVVsw",
        "outputId": "83210837-7a0f-4c95-90d3-f3fb8b3f8753"
      },
      "source": [
        "X_train_tfidf.nnz"
      ],
      "execution_count": 14,
      "outputs": [
        {
          "output_type": "execute_result",
          "data": {
            "text/plain": [
              "1017008"
            ]
          },
          "metadata": {},
          "execution_count": 14
        }
      ]
    },
    {
      "cell_type": "code",
      "metadata": {
        "colab": {
          "base_uri": "https://localhost:8080/"
        },
        "id": "pVAOH4nXVVsx",
        "outputId": "7c37387d-243c-4a77-d796-75f3eab2368a"
      },
      "source": [
        "X_test_tfidf.nnz"
      ],
      "execution_count": 15,
      "outputs": [
        {
          "output_type": "execute_result",
          "data": {
            "text/plain": [
              "631911"
            ]
          },
          "metadata": {},
          "execution_count": 15
        }
      ]
    },
    {
      "cell_type": "code",
      "metadata": {
        "id": "IfoRmv6JVVsx"
      },
      "source": [
        "from sklearn.naive_bayes import MultinomialNB"
      ],
      "execution_count": 16,
      "outputs": []
    },
    {
      "cell_type": "code",
      "metadata": {
        "id": "V6OCjbHqVVsx"
      },
      "source": [
        "nb_model = MultinomialNB().fit(X_train_tfidf, df[\"target\"])"
      ],
      "execution_count": 17,
      "outputs": []
    },
    {
      "cell_type": "code",
      "metadata": {
        "id": "86VX_A5YVVsx"
      },
      "source": [
        "all_pred_nb = nb_model.predict(X_test_tfidf)"
      ],
      "execution_count": 18,
      "outputs": []
    },
    {
      "cell_type": "code",
      "metadata": {
        "id": "-IUP-FGTVVsx"
      },
      "source": [
        "from sklearn.neighbors import NearestCentroid"
      ],
      "execution_count": 19,
      "outputs": []
    },
    {
      "cell_type": "code",
      "metadata": {
        "id": "jeNY3TDmVVsz"
      },
      "source": [
        "rocchio_model = NearestCentroid().fit(X_train_tfidf, df[\"target\"])"
      ],
      "execution_count": 20,
      "outputs": []
    },
    {
      "cell_type": "code",
      "metadata": {
        "id": "CYyCHTooVVsz"
      },
      "source": [
        "all_pred_rc = rocchio_model.predict(X_test_tfidf)"
      ],
      "execution_count": 21,
      "outputs": []
    },
    {
      "cell_type": "code",
      "metadata": {
        "id": "s1mZk6ZTVVsz"
      },
      "source": [
        "from sklearn.neighbors import KNeighborsClassifier"
      ],
      "execution_count": 22,
      "outputs": []
    },
    {
      "cell_type": "code",
      "metadata": {
        "id": "IdX7-v7zVVs0"
      },
      "source": [
        "knn_model = KNeighborsClassifier().fit(X_train_tfidf, df[\"target\"])"
      ],
      "execution_count": 23,
      "outputs": []
    },
    {
      "cell_type": "code",
      "metadata": {
        "id": "R89IHPQuVVs0"
      },
      "source": [
        "all_pred_knn = knn_model.predict(X_test_tfidf)"
      ],
      "execution_count": 24,
      "outputs": []
    },
    {
      "cell_type": "code",
      "metadata": {
        "id": "SxkBTXl9VVs0"
      },
      "source": [
        "from sklearn.metrics import f1_score, recall_score, precision_score"
      ],
      "execution_count": 25,
      "outputs": []
    },
    {
      "cell_type": "code",
      "metadata": {
        "colab": {
          "base_uri": "https://localhost:8080/"
        },
        "id": "lZgBKiRRVVs0",
        "outputId": "b7aefad9-4b2c-44b5-9047-1d7ea874b5ac"
      },
      "source": [
        "print(\"precision score of Naive Bayse classifier\")\n",
        "precision_score(df_test[\"target\"], all_pred_nb, average='macro')"
      ],
      "execution_count": 26,
      "outputs": [
        {
          "output_type": "stream",
          "name": "stdout",
          "text": [
            "precision score of Naive Bayse classifier\n"
          ]
        },
        {
          "output_type": "execute_result",
          "data": {
            "text/plain": [
              "0.8363432540126308"
            ]
          },
          "metadata": {},
          "execution_count": 26
        }
      ]
    },
    {
      "cell_type": "code",
      "metadata": {
        "colab": {
          "base_uri": "https://localhost:8080/"
        },
        "id": "CDuXDbKoVVs0",
        "outputId": "d4b2af06-f603-455d-d529-bc86c6155ead"
      },
      "source": [
        "print(\"recall score of Naive Bayse classifier\")\n",
        "recall_score(df_test[\"target\"], all_pred_nb, average='macro')"
      ],
      "execution_count": 27,
      "outputs": [
        {
          "output_type": "stream",
          "name": "stdout",
          "text": [
            "recall score of Naive Bayse classifier\n"
          ]
        },
        {
          "output_type": "execute_result",
          "data": {
            "text/plain": [
              "0.7868466879271618"
            ]
          },
          "metadata": {},
          "execution_count": 27
        }
      ]
    },
    {
      "cell_type": "code",
      "metadata": {
        "colab": {
          "base_uri": "https://localhost:8080/"
        },
        "id": "kIp-uOeOVVs1",
        "outputId": "c95fb0f1-801a-44df-9d08-9cf30da1ed10"
      },
      "source": [
        "print(\"f1 score for Naive Bayse classifier\")\n",
        "f1_score(df_test[\"target\"], all_pred_nb, average='macro')"
      ],
      "execution_count": 28,
      "outputs": [
        {
          "output_type": "stream",
          "name": "stdout",
          "text": [
            "f1 score for Naive Bayse classifier\n"
          ]
        },
        {
          "output_type": "execute_result",
          "data": {
            "text/plain": [
              "0.7820671046113149"
            ]
          },
          "metadata": {},
          "execution_count": 28
        }
      ]
    },
    {
      "cell_type": "code",
      "metadata": {
        "colab": {
          "base_uri": "https://localhost:8080/"
        },
        "id": "BOWezINKVVs1",
        "outputId": "a7e2a3db-cec7-4d45-b3fe-39d149bd77b8"
      },
      "source": [
        "print(\"precision score of Rocchio classifier\")\n",
        "precision_score(df_test[\"target\"], all_pred_rc, average='macro')"
      ],
      "execution_count": 29,
      "outputs": [
        {
          "output_type": "stream",
          "name": "stdout",
          "text": [
            "precision score of Rocchio classifier\n"
          ]
        },
        {
          "output_type": "execute_result",
          "data": {
            "text/plain": [
              "0.7713099423425411"
            ]
          },
          "metadata": {},
          "execution_count": 29
        }
      ]
    },
    {
      "cell_type": "code",
      "metadata": {
        "colab": {
          "base_uri": "https://localhost:8080/"
        },
        "id": "wx-GJECPVVs1",
        "outputId": "24f28067-e4f8-4d0e-8df6-b586af5f8402"
      },
      "source": [
        "print(\"recall score of Rocchio classifier\")\n",
        "recall_score(df_test[\"target\"], all_pred_rc, average='macro')"
      ],
      "execution_count": 30,
      "outputs": [
        {
          "output_type": "stream",
          "name": "stdout",
          "text": [
            "recall score of Rocchio classifier\n"
          ]
        },
        {
          "output_type": "execute_result",
          "data": {
            "text/plain": [
              "0.7248977059596903"
            ]
          },
          "metadata": {},
          "execution_count": 30
        }
      ]
    },
    {
      "cell_type": "code",
      "metadata": {
        "id": "EPWnsbUvVVs1",
        "colab": {
          "base_uri": "https://localhost:8080/"
        },
        "outputId": "196a7e28-014b-46f9-9ceb-d1582b4ac0e8"
      },
      "source": [
        "print(\"f1 score for Rocchio classifier\")\n",
        "f1_score(df_test[\"target\"], all_pred_rc, average='macro')"
      ],
      "execution_count": 31,
      "outputs": [
        {
          "output_type": "stream",
          "name": "stdout",
          "text": [
            "f1 score for Rocchio classifier\n"
          ]
        },
        {
          "output_type": "execute_result",
          "data": {
            "text/plain": [
              "0.7366037643936172"
            ]
          },
          "metadata": {},
          "execution_count": 31
        }
      ]
    },
    {
      "cell_type": "code",
      "metadata": {
        "id": "AdIk0cyTVVs1",
        "colab": {
          "base_uri": "https://localhost:8080/"
        },
        "outputId": "e0d6ce2d-81a5-4507-b9d7-220969ffe438"
      },
      "source": [
        "print(\"precision score of KNN classifier\")\n",
        "precision_score(df_test[\"target\"], all_pred_knn, average='macro')"
      ],
      "execution_count": 32,
      "outputs": [
        {
          "output_type": "stream",
          "name": "stdout",
          "text": [
            "precision score of KNN classifier\n"
          ]
        },
        {
          "output_type": "execute_result",
          "data": {
            "text/plain": [
              "0.7109115523871894"
            ]
          },
          "metadata": {},
          "execution_count": 32
        }
      ]
    },
    {
      "cell_type": "code",
      "metadata": {
        "id": "HsK5l-EZVVs1",
        "colab": {
          "base_uri": "https://localhost:8080/"
        },
        "outputId": "720778af-b7a7-4a01-b408-7cc03650878c"
      },
      "source": [
        "print(\"recall score of KNN classifier\")\n",
        "recall_score(df_test[\"target\"], all_pred_knn, average='macro')"
      ],
      "execution_count": 33,
      "outputs": [
        {
          "output_type": "stream",
          "name": "stdout",
          "text": [
            "recall score of KNN classifier\n"
          ]
        },
        {
          "output_type": "execute_result",
          "data": {
            "text/plain": [
              "0.7017206408756015"
            ]
          },
          "metadata": {},
          "execution_count": 33
        }
      ]
    },
    {
      "cell_type": "code",
      "metadata": {
        "id": "m7k7G0hPVVs1",
        "colab": {
          "base_uri": "https://localhost:8080/"
        },
        "outputId": "be4291f2-ad35-4419-a8d5-ae2f0853a185"
      },
      "source": [
        "print(\"f1 score for KNN classifier\")\n",
        "f1_score(df_test[\"target\"], all_pred_knn, average='macro')"
      ],
      "execution_count": 34,
      "outputs": [
        {
          "output_type": "stream",
          "name": "stdout",
          "text": [
            "f1 score for KNN classifier\n"
          ]
        },
        {
          "output_type": "execute_result",
          "data": {
            "text/plain": [
              "0.7020841025174253"
            ]
          },
          "metadata": {},
          "execution_count": 34
        }
      ]
    },
    {
      "cell_type": "code",
      "metadata": {
        "id": "xYORSsikVVs2",
        "colab": {
          "base_uri": "https://localhost:8080/",
          "height": 392
        },
        "outputId": "2bb968fe-a06d-421d-8f1e-aff707cc8bc4"
      },
      "source": [
        "import seaborn as sns\n",
        "import matplotlib.pyplot as plt\n",
        "\n",
        "population=[0.844, 0.732, 0.788]\n",
        "cv_metrics = pd.DataFrame({\"Naive-Bayes\": 0.7868466879271618,\n",
        "                           \"Rocchio\": 0.7366037643936172,\n",
        "                          \"KNN\": 0.7020841025174253\n",
        "                          },\n",
        "                         index=[0])\n",
        "plt.figure(figsize=(8, 6))\n",
        "splot=sns.barplot(data=cv_metrics)\n",
        "for p in splot.patches:\n",
        "    splot.annotate(format(p.get_height(), '.4f'), \n",
        "                   (p.get_x() + p.get_width() / 2., p.get_height()), \n",
        "                   ha = 'center', va = 'center', \n",
        "                   xytext = (0, 9), \n",
        "                   textcoords = 'offset points')\n",
        "plt.xlabel(\"F1-scores\", size=14);"
      ],
      "execution_count": 35,
      "outputs": [
        {
          "output_type": "display_data",
          "data": {
            "image/png": "[encoded data removed]",
            "text/plain": [
              "<Figure size 576x432 with 1 Axes>"
            ]
          },
          "metadata": {
            "needs_background": "light"
          }
        }
      ]
    },
    {
      "cell_type": "code",
      "metadata": {
        "colab": {
          "base_uri": "https://localhost:8080/",
          "height": 392
        },
        "id": "k8WbJqvndQmi",
        "outputId": "ecc3ea13-22c8-44a3-8b75-6cd8ad373c25"
      },
      "source": [
        "import seaborn as sns\n",
        "import matplotlib.pyplot as plt\n",
        "\n",
        "population=[0.844, 0.732, 0.788]\n",
        "cv_metrics = pd.DataFrame({\"Naive-Bayes\": 0.8363432540126308,\n",
        "                           \"Rocchio\": 0.7713099423425411,\n",
        "                          \"KNN\": 0.7109115523871894\n",
        "                          },\n",
        "                         index=[0])\n",
        "plt.figure(figsize=(8, 6))\n",
        "splot=sns.barplot(data=cv_metrics)\n",
        "for p in splot.patches:\n",
        "    splot.annotate(format(p.get_height(), '.4f'), \n",
        "                   (p.get_x() + p.get_width() / 2., p.get_height()), \n",
        "                   ha = 'center', va = 'center', \n",
        "                   xytext = (0, 9), \n",
        "                   textcoords = 'offset points')\n",
        "plt.xlabel(\"precision score\", size=14);"
      ],
      "execution_count": 36,
      "outputs": [
        {
          "output_type": "display_data",
          "data": {
            "image/png": "[encoded data removed]",
            "text/plain": [
              "<Figure size 576x432 with 1 Axes>"
            ]
          },
          "metadata": {
            "needs_background": "light"
          }
        }
      ]
    },
    {
      "cell_type": "code",
      "metadata": {
        "colab": {
          "base_uri": "https://localhost:8080/",
          "height": 392
        },
        "id": "yihcq0xcdg8k",
        "outputId": "cf2f5055-0341-4464-8a58-dbf56b825cb7"
      },
      "source": [
        "import seaborn as sns\n",
        "import matplotlib.pyplot as plt\n",
        "\n",
        "population=[0.844, 0.732, 0.788]\n",
        "cv_metrics = pd.DataFrame({\"Naive-Bayes\": 0.7868466879271618,\n",
        "                           \"Rocchio\": 0.7248977059596903,\n",
        "                          \"KNN\": 0.7017206408756015\n",
        "                          },\n",
        "                         index=[0])\n",
        "plt.figure(figsize=(8, 6))\n",
        "splot=sns.barplot(data=cv_metrics)\n",
        "for p in splot.patches:\n",
        "    splot.annotate(format(p.get_height(), '.4f'), \n",
        "                   (p.get_x() + p.get_width() / 2., p.get_height()), \n",
        "                   ha = 'center', va = 'center', \n",
        "                   xytext = (0, 9), \n",
        "                   textcoords = 'offset points')\n",
        "plt.xlabel(\"recall score\", size=14);"
      ],
      "execution_count": 37,
      "outputs": [
        {
          "output_type": "display_data",
          "data": {
            "image/png": "[encoded data removed]",
            "text/plain": [
              "<Figure size 576x432 with 1 Axes>"
            ]
          },
          "metadata": {
            "needs_background": "light"
          }
        }
      ]
    },
    {
      "cell_type": "code",
      "metadata": {
        "id": "6B6oS0eAdzQh"
      },
      "source": [
        ""
      ],
      "execution_count": 37,
      "outputs": []
    }
  ]
}